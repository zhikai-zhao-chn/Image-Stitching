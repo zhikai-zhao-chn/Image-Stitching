{
 "cells": [
  {
   "cell_type": "code",
   "execution_count": 2,
   "metadata": {},
   "outputs": [],
   "source": [
    "# coding: utf-8\n",
    "\n",
    "import sys\n",
    "import cv2\n",
    "import math\n",
    "import numpy as np\n",
    "import multiprocessing as mp\n",
    "import feature\n",
    "import utils\n",
    "import stitch\n",
    "import constant as const\n",
    "\n"
   ]
  },
  {
   "cell_type": "code",
   "execution_count": 6,
   "metadata": {},
   "outputs": [
    {
     "name": "stdout",
     "output_type": "stream",
     "text": [
      "[Usage] python script <input img dir>\n",
      "[Exampe] python script ../input_image/parrington\n"
     ]
    },
    {
     "ename": "SystemExit",
     "evalue": "0",
     "output_type": "error",
     "traceback": [
      "An exception has occurred, use %tb to see the full traceback.\n",
      "\u001b[1;31mSystemExit\u001b[0m\u001b[1;31m:\u001b[0m 0\n"
     ]
    },
    {
     "name": "stderr",
     "output_type": "stream",
     "text": [
      "D:\\Anaconda\\lib\\site-packages\\IPython\\core\\interactiveshell.py:2969: UserWarning: To exit: use 'exit', 'quit', or Ctrl-D.\n",
      "  warn(\"To exit: use 'exit', 'quit', or Ctrl-D.\", stacklevel=1)\n"
     ]
    }
   ],
   "source": [
    "\n",
    "if __name__ == '__main__':\n",
    "    if len(sys.argv) != 2:\n",
    "        print('[Usage] python script <input img dir>')\n",
    "        print('[Exampe] python script ../input_image/parrington')\n",
    "        sys.exit(0)\n",
    "    \n",
    "    input_dirname = sys.argv[1]\n",
    "    \n",
    "    pool = mp.Pool(mp.cpu_count())\n",
    "\n",
    "    img_list, focal_length = utils.parse(input_dirname)\n",
    "    \n",
    "    # img_list = img_list[2:4]\n",
    "\n",
    "    print('Warp images to cylinder')\n",
    "    cylinder_img_list = pool.starmap(utils.cylindrical_projection, [(img_list[i], focal_length[i]) for i in range(len(img_list))])\n",
    "\n",
    "\n",
    "    _, img_width, _ = img_list[0].shape\n",
    "    stitched_image = cylinder_img_list[0].copy()\n",
    "\n",
    "    shifts = [[0, 0]]\n",
    "    cache_feature = [[], []]\n",
    "\n",
    "    # add first img for end to end align\n",
    "    #cylinder_img_list += [stitched_image]\n",
    "    for i in range(1, len(cylinder_img_list)):\n",
    "        print('Computing .... '+str(i+1)+'/'+str(len(cylinder_img_list)))\n",
    "        img1 = cylinder_img_list[i-1]\n",
    "        img2 = cylinder_img_list[i]\n",
    "\n",
    "        print(' - Find features in previous img .... ', end='', flush=True)\n",
    "        descriptors1, position1 = cache_feature\n",
    "        if len(descriptors1) == 0:\n",
    "            corner_response1 = feature.harris_corner(img1, pool)\n",
    "            descriptors1, position1 = feature.extract_description(img1, corner_response1, kernel=const.DESCRIPTOR_SIZE, threshold=const.FEATURE_THRESHOLD)\n",
    "        print(str(len(descriptors1))+' features extracted.')\n",
    "\n",
    "        print(' - Find features in img_'+str(i+1)+' .... ', end='', flush=True)\n",
    "        corner_response2 = feature.harris_corner(img2, pool)\n",
    "        descriptors2, position2 = feature.extract_description(img2, corner_response2, kernel=const.DESCRIPTOR_SIZE, threshold=const.FEATURE_THRESHOLD)\n",
    "        print(str(len(descriptors2))+' features extracted.')\n",
    "\n",
    "        cache_feature = [descriptors2, position2]\n",
    "\n",
    "        if const.DEBUG:\n",
    "            cv2.imshow('cr1', corner_response1)\n",
    "            cv2.imshow('cr2', corner_response2)\n",
    "            cv2.waitKey(0)\n",
    "        \n",
    "        print(' - Feature matching .... ', end='', flush=True)\n",
    "        matched_pairs = feature.matching(descriptors1, descriptors2, position1, position2, pool, y_range=const.MATCHING_Y_RANGE)\n",
    "        print(str(len(matched_pairs)) +' features matched.')\n",
    "\n",
    "        if const.DEBUG:\n",
    "            utils.matched_pairs_plot(img1, img2, matched_pairs)\n",
    "\n",
    "        print(' - Find best shift using RANSAC .... ', end='', flush=True)\n",
    "        shift = stitch.RANSAC(matched_pairs, shifts[-1])\n",
    "        shifts += [shift]\n",
    "        print('best shift ', shift)\n",
    "\n",
    "        print(' - Stitching image .... ', end='', flush=True)\n",
    "        stitched_image = stitch.stitching(stitched_image, img2, shift, pool, blending=True)\n",
    "        cv2.imwrite(str(i) +'.jpg', stitched_image)\n",
    "        print('Saved.')\n"
   ]
  },
  {
   "cell_type": "code",
   "execution_count": null,
   "metadata": {},
   "outputs": [],
   "source": [
    "\n",
    "\n",
    "    print('Perform end to end alignment')\n",
    "    aligned = stitch.end2end_align(stitched_image, shifts)\n",
    "    cv2.imwrite('aligned.jpg', aligned)\n",
    "\n",
    "    print('Cropping image')\n",
    "    cropped = stitch.crop(aligned)\n",
    "    cv2.imwrite('cropped.jpg', cropped)\n"
   ]
  }
 ],
 "metadata": {
  "kernelspec": {
   "display_name": "Python 3",
   "language": "python",
   "name": "python3"
  },
  "language_info": {
   "codemirror_mode": {
    "name": "ipython",
    "version": 3
   },
   "file_extension": ".py",
   "mimetype": "text/x-python",
   "name": "python",
   "nbconvert_exporter": "python",
   "pygments_lexer": "ipython3",
   "version": "3.7.0"
  }
 },
 "nbformat": 4,
 "nbformat_minor": 2
}
